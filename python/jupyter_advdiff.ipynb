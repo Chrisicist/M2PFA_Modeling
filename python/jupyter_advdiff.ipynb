{
 "cells": [
  {
   "cell_type": "markdown",
   "metadata": {},
   "source": [
    "# Student name and e-mail"
   ]
  },
  {
   "cell_type": "markdown",
   "metadata": {},
   "source": [
    "name : \n",
    "\n",
    "e-mail : "
   ]
  },
  {
   "cell_type": "code",
   "execution_count": 1,
   "metadata": {},
   "outputs": [],
   "source": [
    "USE_GOOGLE_COLAB = False\n",
    "MY_GOOGLE_DRIVE_PATH = 'TP_Modeling' # where files will be stored"
   ]
  },
  {
   "cell_type": "code",
   "execution_count": 2,
   "metadata": {},
   "outputs": [],
   "source": [
    "if USE_GOOGLE_COLAB:\n",
    "  from google.colab import drive\n",
    "  from os.path import join \n",
    "  import os\n",
    "  ROOT = \"/content/drive/\"     # default location for the drive\n",
    "\n",
    "  PROJECT_PATH = join(ROOT, 'MyDrive', MY_GOOGLE_DRIVE_PATH)\n",
    "  BASE_PATH = join(ROOT, 'MyDrive')\n",
    "  \n",
    "  drive.mount(ROOT, force_remount=False)           # we mount the google drive at /content/drive\n",
    "\n",
    "  os.chdir(BASE_PATH)\n",
    "\n",
    "  try:\n",
    "    os.mkdir(PROJECT_PATH)\n",
    "  except FileExistsError:\n",
    "    pass\n",
    "  os.chdir(PROJECT_PATH)\n",
    "\n",
    "  ! git clone https://github.com/GFuhr/MF_FCM6.git\n",
    "  \n",
    "  os.chdir('./MF_FCM6/')\n",
    "  ! git pull origin master\n",
    "  os.chdir('./python')\n",
    "\n",
    "  print('current folder')\n",
    "  print(os.getcwd())"
   ]
  },
  {
   "cell_type": "markdown",
   "metadata": {},
   "source": [
    "# python modules"
   ]
  },
  {
   "cell_type": "code",
   "execution_count": 3,
   "metadata": {},
   "outputs": [],
   "source": [
    "%load_ext cython"
   ]
  },
  {
   "cell_type": "code",
   "execution_count": 4,
   "metadata": {},
   "outputs": [
    {
     "data": {
      "text/plain": [
       "'Good News, YAML format accepted'"
      ]
     },
     "metadata": {},
     "output_type": "display_data"
    }
   ],
   "source": [
    "\n",
    "from IPython.display import HTML\n",
    "import matplotlib.pyplot as plt\n",
    "from matplotlib import animation\n",
    "\n",
    "import cython\n",
    "import datetime\n",
    "import numpy as np\n",
    "import os\n",
    "try:\n",
    "    import yaml\n",
    "    HAS_YAML=True\n",
    "    display('Good News, YAML format accepted')\n",
    "except ImportError:\n",
    "    import json as js\n",
    "    HAS_YAML=False\n",
    "    display('only json accepted')\n",
    "\n",
    "# if you have trouble seeing animations in the notebook, you can try to replace this line : \n",
    "%matplotlib inline\n",
    "# with this one \n",
    "# %matplotlib notebook"
   ]
  },
  {
   "cell_type": "markdown",
   "metadata": {},
   "source": [
    "function used to generate animations and compute computation time"
   ]
  },
  {
   "cell_type": "markdown",
   "metadata": {},
   "source": [
    "# Additional functions\n",
    "\n",
    "<font size=3>\n",
    "    Functions defined here have been made to simplify representation of outputs. These functions are not part of the labs and can be used directly\n",
    "</font>"
   ]
  },
  {
   "cell_type": "code",
   "execution_count": 5,
   "metadata": {},
   "outputs": [],
   "source": [
    "from utils.timer import Timer\n",
    "from utils.plotting import plot_results, plot_profile, figformat"
   ]
  },
  {
   "cell_type": "code",
   "execution_count": 6,
   "metadata": {},
   "outputs": [],
   "source": [
    "from utils.file import save_outputs\n",
    "\n",
    "def save_with_params(output, params):\n",
    "    prefix = ''\n",
    "    if params.get('C', None) is not None:\n",
    "        prefix = 'diff_'\n",
    "    if params.get('V', None) is not None:\n",
    "        prefix += 'adv_'\n",
    "    prefix += '{0:03d}_'.format(params['Nx'])\n",
    "    save_outputs(output, prefix=prefix)"
   ]
  },
  {
   "cell_type": "code",
   "execution_count": 7,
   "metadata": {},
   "outputs": [],
   "source": [
    "def load_from_string(params_str:str):\n",
    "    \"\"\"\n",
    "    function used to load parameters from a string and load it into a dict used by simulations\n",
    "    return : dict or ValueError if scheme is not correct\n",
    "    \"\"\"\n",
    "    if not HAS_YAML:\n",
    "        data = js.loads(params_str)\n",
    "    else:\n",
    "        data = yaml.safe_load (params_str)\n",
    "    data['V'] = np.double(data['V'])\n",
    "    try:\n",
    "        data['Nx'] = int(data['Nx'])\n",
    "    except TypeError:\n",
    "        raise ValueError('Nx Value missing or not written as a number')\n",
    "    try:\n",
    "        data['Ny'] = int(data['Ny'])\n",
    "    except TypeError:\n",
    "        raise ValueError('Ny Value missing or not written as a number')\n",
    "    except KeyError:\n",
    "        print('Ny key not found')\n",
    "    data['scheme'] = data['scheme'].lower().strip()\n",
    "    if data['scheme'] not in ('eule', 'euli', 'rk2', 'rk4', 'cn'):\n",
    "        raise ValueError('unknown time scheme')\n",
    "    return data"
   ]
  },
  {
   "cell_type": "code",
   "execution_count": 8,
   "metadata": {},
   "outputs": [],
   "source": [
    "# function extracting the max value and his position for each serie of a list of profiles\n",
    "def extract_max(Frames):\n",
    "    list_max = np.zeros(shape=(2, len(Frames)))\n",
    "    idx = 0\n",
    "    for frame in Frames:\n",
    "        list_max[:,idx] = (frame.argmax(), frame.max())\n",
    "        idx += 1\n",
    "    return np.asarray(list_max)\n",
    "\n",
    "# compute Fourier transform for a given field\n",
    "def fourier_transform(field:(list, np.array), dx:float)->(np.array, np.array):\n",
    "    if isinstance(field, list):\n",
    "        ffield = np.array([np.fft.rfft(f[1:-1]) for f in field])\n",
    "        field_dim = field[0].shape[0]\n",
    "        field_dim_kx = ffield[0].shape[0]\n",
    "    else:\n",
    "        ffield = np.fft.rfft(field[1:-1])\n",
    "        field_dim = field.shape[0]\n",
    "        field_dim_kx = ffield.shape[0]\n",
    "\n",
    "    kx = 2*np.pi/(dx*(field_dim-2))\n",
    "    kfield = kx*np.arange(field_dim_kx)\n",
    "    return ffield, kfield"
   ]
  },
  {
   "cell_type": "markdown",
   "metadata": {},
   "source": [
    "# Definition of Finite difference functions used to resolve convection-diffusion equation"
   ]
  },
  {
   "cell_type": "code",
   "execution_count": 9,
   "metadata": {},
   "outputs": [
    {
     "data": {
      "text/html": [
       "<font size=4> data saved in the ./run subfolder </font>"
      ],
      "text/plain": [
       "<IPython.core.display.HTML object>"
      ]
     },
     "metadata": {},
     "output_type": "display_data"
    }
   ],
   "source": [
    "os.getcwd()\n",
    "folder = os.path.split(os.getcwd())\n",
    "if ('h2d' in folder) or ('advdiff' in folder):\n",
    "    try:\n",
    "        os.mkdir('../run')\n",
    "    except FileExistsError:\n",
    "        pass\n",
    "    os.chdir('../run')\n",
    "elif ('run' in folder):\n",
    "    pass\n",
    "elif ('python' in folder):\n",
    "    try:\n",
    "        os.mkdir('./run')\n",
    "    except FileExistsError:\n",
    "        pass\n",
    "    os.chdir('./run')\n",
    "    \n",
    "display(HTML('<font size=4> data saved in the ./run subfolder </font>'))"
   ]
  },
  {
   "cell_type": "code",
   "execution_count": 10,
   "metadata": {},
   "outputs": [],
   "source": [
    "%%cython\n",
    "import numpy as np\n",
    "import pyximport\n",
    "\n",
    "pyximport.install(reload_support=True, setup_args = {'include_dirs': np.get_include()})"
   ]
  },
  {
   "cell_type": "code",
   "execution_count": 16,
   "metadata": {},
   "outputs": [
    {
     "name": "stderr",
     "output_type": "stream",
     "text": [
      "In file included from /home/guillaume/miniconda/lib/python3.10/site-packages/numpy/core/include/numpy/ndarraytypes.h:1929,\n",
      "                 from /home/guillaume/miniconda/lib/python3.10/site-packages/numpy/core/include/numpy/ndarrayobject.h:12,\n",
      "                 from /home/guillaume/miniconda/lib/python3.10/site-packages/numpy/core/include/numpy/arrayobject.h:5,\n",
      "                 from /home/guillaume/.pyxbld/temp.linux-x86_64-cpython-310/pyrex/advdiff/bicgstab.c:746:\n",
      "/home/guillaume/miniconda/lib/python3.10/site-packages/numpy/core/include/numpy/npy_1_7_deprecated_api.h:17:2: warning: #warning \"Using deprecated NumPy API, disable it with \" \"#define NPY_NO_DEPRECATED_API NPY_1_7_API_VERSION\" [-Wcpp]\n",
      "   17 | #warning \"Using deprecated NumPy API, disable it with \" \\\n",
      "      |  ^~~~~~~\n",
      "/home/guillaume/.pyxbld/temp.linux-x86_64-cpython-310/pyrex/advdiff/bicgstab.c:2684:13: warning: ‘__pyx_f_7advdiff_8bicgstab_op_zero’ defined but not used [-Wunused-function]\n",
      " 2684 | static void __pyx_f_7advdiff_8bicgstab_op_zero(__Pyx_memviewslice __pyx_v_x) {\n",
      "      |             ^~~~~~~~~~~~~~~~~~~~~~~~~~~~~~~~~~\n",
      "/home/guillaume/.pyxbld/temp.linux-x86_64-cpython-310/pyrex/advdiff/operators_1d.c:3634:13: warning: ‘__pyx_f_7advdiff_12operators_1d_advection’ defined but not used [-Wunused-function]\n",
      " 3634 | static void __pyx_f_7advdiff_12operators_1d_advection(CYTHON_UNUSED double __pyx_v_dx, double *__pyx_v_adv_factor, __Pyx_memviewslice __pyx_v_v, __Pyx_memviewslice __pyx_v_u) {\n",
      "      |             ^~~~~~~~~~~~~~~~~~~~~~~~~~~~~~~~~~~~~~~~~\n",
      "/home/guillaume/.pyxbld/temp.linux-x86_64-cpython-310/pyrex/advdiff/operators_1d.c:3473:13: warning: ‘__pyx_f_7advdiff_12operators_1d_diffusion_coef’ defined but not used [-Wunused-function]\n",
      " 3473 | static void __pyx_f_7advdiff_12operators_1d_diffusion_coef(double const __pyx_v_dx, double const __pyx_v_Lx, __Pyx_memviewslice __pyx_v_chi, __Pyx_memviewslice __pyx_v_dchi, __Pyx_memviewslice __pyx_v_v, __Pyx_memviewslice __pyx_v_u) {\n",
      "      |             ^~~~~~~~~~~~~~~~~~~~~~~~~~~~~~~~~~~~~~~~~~~~~~\n",
      "/home/guillaume/.pyxbld/temp.linux-x86_64-cpython-310/pyrex/advdiff/operators_1d.c:3330:13: warning: ‘__pyx_f_7advdiff_12operators_1d_diffusion’ defined but not used [-Wunused-function]\n",
      " 3330 | static void __pyx_f_7advdiff_12operators_1d_diffusion(double const __pyx_v_dx, double const __pyx_v_c, __Pyx_memviewslice __pyx_v_v, __Pyx_memviewslice __pyx_v_u) {\n",
      "      |             ^~~~~~~~~~~~~~~~~~~~~~~~~~~~~~~~~~~~~~~~~\n",
      "/home/guillaume/.pyxbld/temp.linux-x86_64-cpython-310/pyrex/advdiff/operators_1d.c:3195:13: warning: ‘__pyx_f_7advdiff_12operators_1d_op_xpby’ defined but not used [-Wunused-function]\n",
      " 3195 | static void __pyx_f_7advdiff_12operators_1d_op_xpby(__Pyx_memviewslice __pyx_v_x, __Pyx_memviewslice __pyx_v_y, double const __pyx_v_b) {\n",
      "      |             ^~~~~~~~~~~~~~~~~~~~~~~~~~~~~~~~~~~~~~~\n",
      "/home/guillaume/.pyxbld/temp.linux-x86_64-cpython-310/pyrex/advdiff/operators_1d.c:2654:13: warning: ‘__pyx_f_7advdiff_12operators_1d_op_xpy’ defined but not used [-Wunused-function]\n",
      " 2654 | static void __pyx_f_7advdiff_12operators_1d_op_xpy(__Pyx_memviewslice __pyx_v_x, __Pyx_memviewslice __pyx_v_y) {\n",
      "      |             ^~~~~~~~~~~~~~~~~~~~~~~~~~~~~~~~~~~~~~\n",
      "In file included from /home/guillaume/miniconda/lib/python3.10/site-packages/numpy/core/include/numpy/ndarraytypes.h:1929,\n",
      "                 from /home/guillaume/miniconda/lib/python3.10/site-packages/numpy/core/include/numpy/ndarrayobject.h:12,\n",
      "                 from /home/guillaume/miniconda/lib/python3.10/site-packages/numpy/core/include/numpy/arrayobject.h:5,\n",
      "                 from /home/guillaume/.pyxbld/temp.linux-x86_64-cpython-310/pyrex/bicgstab.c:746:\n",
      "/home/guillaume/miniconda/lib/python3.10/site-packages/numpy/core/include/numpy/npy_1_7_deprecated_api.h:17:2: warning: #warning \"Using deprecated NumPy API, disable it with \" \"#define NPY_NO_DEPRECATED_API NPY_1_7_API_VERSION\" [-Wcpp]\n",
      "   17 | #warning \"Using deprecated NumPy API, disable it with \" \\\n",
      "      |  ^~~~~~~\n",
      "/home/guillaume/.pyxbld/temp.linux-x86_64-cpython-310/pyrex/bicgstab.c:2684:13: warning: ‘__pyx_f_8bicgstab_op_zero’ defined but not used [-Wunused-function]\n",
      " 2684 | static void __pyx_f_8bicgstab_op_zero(__Pyx_memviewslice __pyx_v_x) {\n",
      "      |             ^~~~~~~~~~~~~~~~~~~~~~~~~\n",
      "<frozen importlib._bootstrap>:241: RuntimeWarning: bicgstab.MatrixSolver size changed, may indicate binary incompatibility. Expected 1712 from C header, got 1720 from PyObject\n",
      "/home/guillaume/.pyxbld/temp.linux-x86_64-cpython-310/pyrex/operators_1d.c:3634:13: warning: ‘__pyx_f_12operators_1d_advection’ defined but not used [-Wunused-function]\n",
      " 3634 | static void __pyx_f_12operators_1d_advection(CYTHON_UNUSED double __pyx_v_dx, double *__pyx_v_adv_factor, __Pyx_memviewslice __pyx_v_v, __Pyx_memviewslice __pyx_v_u) {\n",
      "      |             ^~~~~~~~~~~~~~~~~~~~~~~~~~~~~~~~\n",
      "/home/guillaume/.pyxbld/temp.linux-x86_64-cpython-310/pyrex/operators_1d.c:3473:13: warning: ‘__pyx_f_12operators_1d_diffusion_coef’ defined but not used [-Wunused-function]\n",
      " 3473 | static void __pyx_f_12operators_1d_diffusion_coef(double const __pyx_v_dx, double const __pyx_v_Lx, __Pyx_memviewslice __pyx_v_chi, __Pyx_memviewslice __pyx_v_dchi, __Pyx_memviewslice __pyx_v_v, __Pyx_memviewslice __pyx_v_u) {\n",
      "      |             ^~~~~~~~~~~~~~~~~~~~~~~~~~~~~~~~~~~~~\n",
      "/home/guillaume/.pyxbld/temp.linux-x86_64-cpython-310/pyrex/operators_1d.c:3330:13: warning: ‘__pyx_f_12operators_1d_diffusion’ defined but not used [-Wunused-function]\n",
      " 3330 | static void __pyx_f_12operators_1d_diffusion(double const __pyx_v_dx, double const __pyx_v_c, __Pyx_memviewslice __pyx_v_v, __Pyx_memviewslice __pyx_v_u) {\n",
      "      |             ^~~~~~~~~~~~~~~~~~~~~~~~~~~~~~~~\n",
      "/home/guillaume/.pyxbld/temp.linux-x86_64-cpython-310/pyrex/operators_1d.c:3195:13: warning: ‘__pyx_f_12operators_1d_op_xpby’ defined but not used [-Wunused-function]\n",
      " 3195 | static void __pyx_f_12operators_1d_op_xpby(__Pyx_memviewslice __pyx_v_x, __Pyx_memviewslice __pyx_v_y, double const __pyx_v_b) {\n",
      "      |             ^~~~~~~~~~~~~~~~~~~~~~~~~~~~~~\n",
      "/home/guillaume/.pyxbld/temp.linux-x86_64-cpython-310/pyrex/operators_1d.c:2654:13: warning: ‘__pyx_f_12operators_1d_op_xpy’ defined but not used [-Wunused-function]\n",
      " 2654 | static void __pyx_f_12operators_1d_op_xpy(__Pyx_memviewslice __pyx_v_x, __Pyx_memviewslice __pyx_v_y) {\n",
      "      |             ^~~~~~~~~~~~~~~~~~~~~~~~~~~~~\n"
     ]
    },
    {
     "data": {
      "text/html": [
       "AdvDiff imported in current notebook"
      ],
      "text/plain": [
       "<IPython.core.display.HTML object>"
      ]
     },
     "metadata": {},
     "output_type": "display_data"
    }
   ],
   "source": [
    "import importlib\n",
    "os.chdir('../advdiff')\n",
    "try: \n",
    "    importlib.reload(advdiff); import advdiff\n",
    "except NameError:\n",
    "    import advdiff\n",
    "os.chdir('../run')\n",
    "\n",
    "display(HTML('AdvDiff imported in current notebook'))"
   ]
  },
  {
   "cell_type": "markdown",
   "metadata": {},
   "source": [
    "## function used for initial condition\n",
    "If/When you modify this function, don't forget to execute again the cell (press shift+enter for that)"
   ]
  },
  {
   "cell_type": "code",
   "execution_count": null,
   "metadata": {},
   "outputs": [],
   "source": [
    "def initfield_1D(x: np.array):\n",
    "    \"\"\"\n",
    "    generate initial profile for advdiff simulations,\n",
    "    :param x: meshgrid for X values\n",
    "    :return: 1D field\n",
    "    \"\"\"\n",
    "    u0 = np.zeros(x.shape)\n",
    "    u0 = np.exp(-(x-.5*x.max())**2/100)\n",
    "\n",
    "    # exemple for gate\n",
    "#     u0[:] = 1\n",
    "#     u0[0:u0.shape[0]//4] = 0\n",
    "#     u0[3*u0.shape[0] // 4:] = 0\n",
    "    return u0"
   ]
  },
  {
   "cell_type": "code",
   "execution_count": null,
   "metadata": {},
   "outputs": [],
   "source": [
    "\n",
    "# run the simulation corresponding to given parameters\n",
    "def simulate(verbose=False, **kwargs):\n",
    "    if kwargs.get('boundaries') is None : \n",
    "        kwargs['boundaries'] = 'per'\n",
    "    if kwargs.get('derivative') is None : \n",
    "        kwargs['derivative'] = 'bwd'\n",
    "    if kwargs.get('init') is None : \n",
    "        kwargs['init'] = initfield_1D\n",
    "    \n",
    "    return advdiff.simulate_1d(verbose, **kwargs)\n",
    "\n"
   ]
  },
  {
   "cell_type": "markdown",
   "metadata": {},
   "source": [
    "## definition of simulation's parameters"
   ]
  },
  {
   "cell_type": "code",
   "execution_count": null,
   "metadata": {},
   "outputs": [],
   "source": [
    "\n",
    "# list of parameters used in both advdiff et H2D.\n",
    "# Remark : the # starting line indicates a comment and is not necessary\n",
    "\n",
    "# definition of parameter input to be used\n",
    "\"\"\"\n",
    "# time step\n",
    "dt: .000001\n",
    "\n",
    "# x step\n",
    "dx:  .015\n",
    "\n",
    "# y step (used only for H2D simulations)\n",
    "dy: .01\n",
    "\n",
    "# Points in X direction\n",
    "Nx:  128\n",
    "\n",
    "# Points in Y direction\n",
    "Ny: 128\n",
    "\n",
    "# modes in Y direction\n",
    "Nm:  32\n",
    "\n",
    "# wave number in Y direction\n",
    "ky: .1\n",
    "\n",
    "# end time\n",
    "Tmax: .00001\n",
    "\n",
    "# output time\n",
    "Toutput: .000001\n",
    "\n",
    "# diffusion coefficient\n",
    "C:  .02\n",
    "\n",
    "# advection coefficient\n",
    "V:  -.2\n",
    "\n",
    "# time scheme\n",
    "# can be\n",
    "# eule for euler explicit (default)\n",
    "# euli for euler implicit\n",
    "# RK2 for Runge-Kutta 2\n",
    "# RK4 for Runge-Kutta 4\n",
    "# CN for Cranck-Nicholson\n",
    "scheme: eule\n",
    "\"\"\"\n",
    ";"
   ]
  },
  {
   "cell_type": "markdown",
   "metadata": {},
   "source": [
    "# Section 0 : Introduction"
   ]
  },
  {
   "cell_type": "markdown",
   "metadata": {
    "slideshow": {
     "slide_type": "notes"
    }
   },
   "source": [
    "Solve convection-diffusion equation : \n",
    "$$\\Large \\frac{\\partial u(x,t)}{\\partial t}+V\\frac{\\partial u(x,t)}{\\partial x} = C\\frac{\\partial^2 u(x,t)}{\\partial x^2}$$\n",
    "$$\\Large u(x, t=0) = u_0(x) $$\n",
    "$$\\Large u(0, t) = u(L_x, t) $$"
   ]
  },
  {
   "cell_type": "markdown",
   "metadata": {},
   "source": [
    "<font size=4>\n",
    "<p>First, we define parameters in a string which will then be used for the simulation. All the parameters are described in the upper cell.\n",
    "This variable is converted to an usable dict through the function load_from_string.\n",
    "    </p>\n",
    "</font>"
   ]
  },
  {
   "cell_type": "markdown",
   "metadata": {},
   "source": [
    "### Diffusion Only\n",
    "\n",
    "$$\\Large \\frac{\\partial u(x,t)}{\\partial t} = C\\frac{\\partial^2 u(x,t)}{\\partial x^2}$$\n",
    "$$\\Large u(0, t) = u(L_x, t) $$\n",
    "$$\\Large u(x, 0) = \\exp\\left( -x^2/\\sigma^2\\right) $$"
   ]
  },
  {
   "cell_type": "markdown",
   "metadata": {},
   "source": [
    "<font size=4>\n",
    "    If YAML format is not accepted, parameters should be written in the following format : each variable must have \" around is name and each line terminated with a comma\n",
    "</font>"
   ]
  },
  {
   "cell_type": "code",
   "execution_count": null,
   "metadata": {},
   "outputs": [],
   "source": [
    "params_ex_diff_str = \"\"\"{\n",
    "\"C\": 0.04,\n",
    "\"Nx\": 256,\n",
    "\"Tmax\": .000001,\n",
    "\"Toutput\": .0000001, \n",
    "\"V\": 0,\n",
    "\"dt\": 0.000000001,\n",
    "\"dx\": 0.1,\n",
    "\"scheme\": \"eule\"\n",
    "}\n",
    "\"\"\"\n",
    "params_ex_diff = load_from_string(params_ex_diff_str)\n",
    "display(params_ex_diff)"
   ]
  },
  {
   "cell_type": "markdown",
   "metadata": {},
   "source": [
    "<font size=4>\n",
    "    If YAML format is accepted, parameters can be written following this format. If YAML is not recognized, you will have an error message.\n",
    "</font>"
   ]
  },
  {
   "cell_type": "code",
   "execution_count": null,
   "metadata": {},
   "outputs": [],
   "source": [
    "params_ex_diff_str = \"\"\"\n",
    "C: 0.0\n",
    "Nx: 512\n",
    "Tmax: 500\n",
    "Toutput: 1 \n",
    "V: -0.2\n",
    "dt: 0.12\n",
    "dx: 0.1\n",
    "scheme: rk4\n",
    "\"\"\"\n",
    "params_ex_diff = load_from_string(params_ex_diff_str)\n",
    "display(params_ex_diff)"
   ]
  },
  {
   "cell_type": "markdown",
   "metadata": {},
   "source": [
    "<font size=4> \n",
    "    To run a new simulation you just need to use the function simulate with the parameters written previously as argument\n",
    "</font>"
   ]
  },
  {
   "cell_type": "code",
   "execution_count": null,
   "metadata": {},
   "outputs": [],
   "source": [
    "%%time\n",
    "tout, output_ex_diff, _ = simulate(**params_ex_diff, verbose=False)"
   ]
  },
  {
   "cell_type": "markdown",
   "metadata": {},
   "source": [
    "<font size=4> \n",
    "    To see the result as an animation you can use the function plot_results with the returned value from the function simulate as argument\n",
    "</font>"
   ]
  },
  {
   "cell_type": "code",
   "execution_count": null,
   "metadata": {},
   "outputs": [],
   "source": [
    "\n",
    "output = plot_results(output_ex_diff)\n",
    "output"
   ]
  },
  {
   "cell_type": "markdown",
   "metadata": {},
   "source": [
    "<font size=4>\n",
    "    to compute the Fourier transform in space of the result\n",
    "</font>"
   ]
  },
  {
   "cell_type": "code",
   "execution_count": null,
   "metadata": {
    "tags": []
   },
   "outputs": [],
   "source": [
    "ffield, kx = fourier_transform(output_ex_diff , params_ex_diff['dx'])"
   ]
  },
  {
   "cell_type": "code",
   "execution_count": null,
   "metadata": {
    "tags": []
   },
   "outputs": [],
   "source": [
    "# this will plot the square modulus of each mode as function of the associated wavenumber\n",
    "for f in ffield:\n",
    "    plt.semilogy(kx[:-1], np.abs(f)[:-1], '+-')\n",
    "    \n",
    "plt.show()"
   ]
  },
  {
   "cell_type": "code",
   "execution_count": null,
   "metadata": {
    "tags": []
   },
   "outputs": [],
   "source": [
    "print(len(ffield))"
   ]
  },
  {
   "cell_type": "code",
   "execution_count": null,
   "metadata": {
    "tags": []
   },
   "outputs": [],
   "source": [
    "#plt.xscale('symlog')\n",
    "#plt.yscale('symlog')\n",
    "plt.pcolormesh(kx,np.arange(len(ffield)),np.log(np.abs(ffield)))\n",
    "# this will plot the square modulus of each mode as function of the associated wavenumber\n",
    "plt.xlabel(\"$k_x$\")\n",
    "plt.ylabel(\"t\")\n",
    "plt.show()"
   ]
  },
  {
   "cell_type": "markdown",
   "metadata": {},
   "source": [
    "<font size=4>\n",
    "    to plot last snapshot\n",
    "</font>"
   ]
  },
  {
   "cell_type": "code",
   "execution_count": null,
   "metadata": {},
   "outputs": [],
   "source": [
    "plot_profile(output_ex_diff, -1)\n",
    "plt.show()"
   ]
  },
  {
   "cell_type": "markdown",
   "metadata": {},
   "source": [
    "<font size=4>\n",
    "    to plot evolution of max(u(x,t)) in time\n",
    "</font>"
   ]
  },
  {
   "cell_type": "code",
   "execution_count": null,
   "metadata": {},
   "outputs": [],
   "source": [
    "figformat().apply()\n",
    "plt.figure(figsize=(10,10))\n",
    "plt.grid(False)\n",
    "ax = plt.gca()\n",
    "x = extract_max(output_ex_diff)[0]\n",
    "y = extract_max(output_ex_diff)[1]\n",
    "t = 1+np.arange(*x.shape)\n",
    "ax.scatter(t, y, c=t)\n",
    "# set log scale in y\n",
    "ax.set_yscale('log')\n",
    "# set log scale in x\n",
    "# ax.set_xscale('log')\n",
    "\n",
    "plt.xlabel('time')\n",
    "plt.ylabel('max')\n",
    ";"
   ]
  },
  {
   "cell_type": "markdown",
   "metadata": {},
   "source": [
    "To save results of a simulation : "
   ]
  },
  {
   "cell_type": "code",
   "execution_count": null,
   "metadata": {},
   "outputs": [],
   "source": [
    "save_with_params(output_ex_diff, params_ex_diff)"
   ]
  },
  {
   "cell_type": "markdown",
   "metadata": {},
   "source": [
    "### Section 1 : diffusion"
   ]
  },
  {
   "cell_type": "code",
   "execution_count": null,
   "metadata": {},
   "outputs": [],
   "source": [
    "# fill this parameters to resolve time evolution of 1D diffusion\n",
    "\n",
    "params_for_diff = \"\"\"\n",
    "C: \n",
    "Nx: \n",
    "Tmax: \n",
    "Toutput: \n",
    "V: 0\n",
    "dt: \n",
    "dx: \n",
    "scheme: eule\n",
    "\"\"\"\n",
    "params_diff = load_from_string(params_for_diff)\n",
    "display(params_diff)"
   ]
  },
  {
   "cell_type": "markdown",
   "metadata": {},
   "source": [
    "## Stability analysis"
   ]
  },
  {
   "cell_type": "markdown",
   "metadata": {},
   "source": [
    "Compute and plot outputs for the following conditions :"
   ]
  },
  {
   "cell_type": "markdown",
   "metadata": {},
   "source": [
    "### $C\\Delta t /\\Delta x^2 < 1/2$"
   ]
  },
  {
   "cell_type": "code",
   "execution_count": null,
   "metadata": {},
   "outputs": [],
   "source": []
  },
  {
   "cell_type": "code",
   "execution_count": null,
   "metadata": {},
   "outputs": [],
   "source": []
  },
  {
   "cell_type": "markdown",
   "metadata": {},
   "source": [
    "### $C\\Delta t /\\Delta x^2 = 1/2$"
   ]
  },
  {
   "cell_type": "code",
   "execution_count": null,
   "metadata": {},
   "outputs": [],
   "source": []
  },
  {
   "cell_type": "code",
   "execution_count": null,
   "metadata": {},
   "outputs": [],
   "source": []
  },
  {
   "cell_type": "markdown",
   "metadata": {},
   "source": [
    "### $C\\Delta t /\\Delta x^2 > 1/2$"
   ]
  },
  {
   "cell_type": "code",
   "execution_count": null,
   "metadata": {},
   "outputs": [],
   "source": []
  },
  {
   "cell_type": "code",
   "execution_count": null,
   "metadata": {},
   "outputs": [],
   "source": []
  },
  {
   "cell_type": "markdown",
   "metadata": {},
   "source": [
    "### $C\\Delta t /\\Delta x^2 = 1/2 - \\epsilon$"
   ]
  },
  {
   "cell_type": "code",
   "execution_count": null,
   "metadata": {},
   "outputs": [],
   "source": []
  },
  {
   "cell_type": "code",
   "execution_count": null,
   "metadata": {},
   "outputs": [],
   "source": []
  },
  {
   "cell_type": "markdown",
   "metadata": {},
   "source": [
    "### $C\\Delta t /\\Delta x^2 = 1/2 + \\epsilon$"
   ]
  },
  {
   "cell_type": "code",
   "execution_count": null,
   "metadata": {},
   "outputs": [],
   "source": []
  },
  {
   "cell_type": "markdown",
   "metadata": {},
   "source": [
    "<font size=4> Comparing previous results, is CFL condition confirmed numerically?</font>"
   ]
  },
  {
   "cell_type": "markdown",
   "metadata": {},
   "source": []
  },
  {
   "cell_type": "markdown",
   "metadata": {},
   "source": [
    "### compute growth rate of diffusion in the case where CFL < 1/2\n",
    "\n",
    "You can use the function extract_max to obtain usefull infos concerning maximal value of the profile at each output time step"
   ]
  },
  {
   "cell_type": "code",
   "execution_count": null,
   "metadata": {},
   "outputs": [],
   "source": []
  },
  {
   "cell_type": "markdown",
   "metadata": {},
   "source": [
    "<font size=4>\n",
    "    Analytic growth rate for diffusion is equal to  :\n",
    "<font>\n",
    "$$ u(x,0) = A \\sin \\left( k_x x\\right) \\Rightarrow \\gamma = -C k_x^2$$\n",
    "Are the numerical and analytical values comparable?"
   ]
  },
  {
   "cell_type": "markdown",
   "metadata": {},
   "source": []
  },
  {
   "cell_type": "markdown",
   "metadata": {},
   "source": [
    "## Runge-Kutta 4 scheme"
   ]
  },
  {
   "cell_type": "code",
   "execution_count": null,
   "metadata": {},
   "outputs": [],
   "source": [
    "params['scheme'] = 'RK4'\n",
    "params['V'] = 0"
   ]
  },
  {
   "cell_type": "markdown",
   "metadata": {},
   "source": [
    "<font size=4> \n",
    "    estimate stability limit using RK4 scheme\n",
    "</font>"
   ]
  },
  {
   "cell_type": "code",
   "execution_count": null,
   "metadata": {},
   "outputs": [],
   "source": []
  },
  {
   "cell_type": "code",
   "execution_count": null,
   "metadata": {},
   "outputs": [],
   "source": []
  },
  {
   "cell_type": "markdown",
   "metadata": {},
   "source": [
    "## Implicit Euler scheme"
   ]
  },
  {
   "cell_type": "code",
   "execution_count": null,
   "metadata": {},
   "outputs": [],
   "source": [
    "params['scheme'] = 'euli'\n",
    "params['V'] = 0"
   ]
  },
  {
   "cell_type": "markdown",
   "metadata": {},
   "source": [
    "Plot results for CFL = .1, .5, 1"
   ]
  },
  {
   "cell_type": "code",
   "execution_count": null,
   "metadata": {},
   "outputs": [],
   "source": []
  },
  {
   "cell_type": "code",
   "execution_count": null,
   "metadata": {},
   "outputs": [],
   "source": []
  },
  {
   "cell_type": "code",
   "execution_count": null,
   "metadata": {},
   "outputs": [],
   "source": []
  },
  {
   "cell_type": "markdown",
   "metadata": {},
   "source": [
    "Is implicit scheme always stable?"
   ]
  },
  {
   "cell_type": "code",
   "execution_count": null,
   "metadata": {},
   "outputs": [],
   "source": []
  },
  {
   "cell_type": "markdown",
   "metadata": {},
   "source": [
    "# Part 2 :  Advection"
   ]
  },
  {
   "cell_type": "code",
   "execution_count": null,
   "metadata": {},
   "outputs": [],
   "source": [
    "# fill this parameters to resolve time evolution of 1D diffusion\n",
    "\n",
    "params_for_diff = \"\"\"\n",
    "C: 0\n",
    "Nx: \n",
    "Tmax: \n",
    "Toutput: \n",
    "V: ??\n",
    "dt: \n",
    "dx: \n",
    "scheme: eule\n",
    "\"\"\"\n",
    "params_diff = load_from_string(params_for_diff)\n",
    "display(params_diff)"
   ]
  },
  {
   "cell_type": "markdown",
   "metadata": {},
   "source": [
    "kind of derivatives :"
   ]
  },
  {
   "cell_type": "markdown",
   "metadata": {},
   "source": []
  },
  {
   "cell_type": "markdown",
   "metadata": {},
   "source": [
    "definition of advection :"
   ]
  },
  {
   "cell_type": "markdown",
   "metadata": {},
   "source": []
  },
  {
   "cell_type": "markdown",
   "metadata": {},
   "source": [
    "simulation with $u(x,t=0) = sin$, modify the function initfield_1D"
   ]
  },
  {
   "cell_type": "code",
   "execution_count": null,
   "metadata": {},
   "outputs": [],
   "source": [
    "def initfield_1D(x: np.array):\n",
    "    \"\"\"\n",
    "    generate initial profile for advdiff simulations,\n",
    "    :param x: meshgrid for X values\n",
    "    :return: 1D field\n",
    "    \"\"\"\n",
    "    u0 = np.zeros(x.shape)\n",
    "    u0 = np.exp(-(x-.5*x.max())**2/10)\n",
    "\n",
    "    # exemple for gate\n",
    "#     u0[:] = 1\n",
    "#     u0[0:u0.shape[0]//4] = 0\n",
    "#     u0[3*u0.shape[0] // 4:] = 0\n",
    "    return u0"
   ]
  },
  {
   "cell_type": "code",
   "execution_count": null,
   "metadata": {},
   "outputs": [],
   "source": []
  },
  {
   "cell_type": "code",
   "execution_count": null,
   "metadata": {},
   "outputs": [],
   "source": []
  },
  {
   "cell_type": "markdown",
   "metadata": {},
   "source": [
    "simulation with $u(x,t=0) = gate$, modify the function initfield_1D"
   ]
  },
  {
   "cell_type": "code",
   "execution_count": null,
   "metadata": {},
   "outputs": [],
   "source": [
    "def initfield_1D(x: np.array):\n",
    "    \"\"\"\n",
    "    generate initial profile for advdiff simulations,\n",
    "    :param x: meshgrid for X values\n",
    "    :return: 1D field\n",
    "    \"\"\"\n",
    "    u0 = np.zeros(x.shape)\n",
    "    u0 = np.exp(-(x-.5*x.max())**2/10)\n",
    "\n",
    "    # exemple for gate\n",
    "#     u0[:] = 1\n",
    "#     u0[0:u0.shape[0]//4] = 0\n",
    "#     u0[3*u0.shape[0] // 4:] = 0\n",
    "    return u0"
   ]
  },
  {
   "cell_type": "code",
   "execution_count": null,
   "metadata": {},
   "outputs": [],
   "source": []
  },
  {
   "cell_type": "code",
   "execution_count": null,
   "metadata": {},
   "outputs": [],
   "source": []
  },
  {
   "cell_type": "markdown",
   "metadata": {},
   "source": [
    "Comments : "
   ]
  },
  {
   "cell_type": "markdown",
   "metadata": {},
   "source": []
  },
  {
   "cell_type": "markdown",
   "metadata": {},
   "source": [
    "estimation of diffusion rate"
   ]
  },
  {
   "cell_type": "code",
   "execution_count": null,
   "metadata": {},
   "outputs": [],
   "source": []
  },
  {
   "cell_type": "code",
   "execution_count": null,
   "metadata": {},
   "outputs": [],
   "source": []
  },
  {
   "cell_type": "markdown",
   "metadata": {},
   "source": [
    "$V\\Delta t/ \\Delta x <1$"
   ]
  },
  {
   "cell_type": "code",
   "execution_count": null,
   "metadata": {},
   "outputs": [],
   "source": []
  },
  {
   "cell_type": "markdown",
   "metadata": {},
   "source": [
    "$V\\Delta t/ \\Delta x == 1$"
   ]
  },
  {
   "cell_type": "code",
   "execution_count": null,
   "metadata": {},
   "outputs": [],
   "source": []
  },
  {
   "cell_type": "markdown",
   "metadata": {},
   "source": [
    "$V\\Delta t/ \\Delta x >1$"
   ]
  },
  {
   "cell_type": "code",
   "execution_count": null,
   "metadata": {},
   "outputs": [],
   "source": []
  },
  {
   "cell_type": "markdown",
   "metadata": {},
   "source": [
    "$V\\Delta t/ \\Delta x =1-\\epsilon$"
   ]
  },
  {
   "cell_type": "code",
   "execution_count": null,
   "metadata": {},
   "outputs": [],
   "source": []
  },
  {
   "cell_type": "markdown",
   "metadata": {},
   "source": [
    "$V\\Delta t/ \\Delta x =1+\\epsilon$"
   ]
  },
  {
   "cell_type": "code",
   "execution_count": null,
   "metadata": {},
   "outputs": [],
   "source": []
  },
  {
   "cell_type": "markdown",
   "metadata": {},
   "source": [
    "estimation of stability limit using RK4 scheme"
   ]
  },
  {
   "cell_type": "code",
   "execution_count": null,
   "metadata": {},
   "outputs": [],
   "source": []
  },
  {
   "cell_type": "markdown",
   "metadata": {},
   "source": []
  },
  {
   "cell_type": "markdown",
   "metadata": {},
   "source": [
    "# Part 3 :  Advection+Diffusion"
   ]
  },
  {
   "cell_type": "markdown",
   "metadata": {},
   "source": [
    "Estimation of diffusion rate"
   ]
  },
  {
   "cell_type": "code",
   "execution_count": null,
   "metadata": {},
   "outputs": [],
   "source": []
  },
  {
   "cell_type": "code",
   "execution_count": null,
   "metadata": {},
   "outputs": [],
   "source": []
  },
  {
   "cell_type": "code",
   "execution_count": null,
   "metadata": {},
   "outputs": [],
   "source": []
  },
  {
   "cell_type": "markdown",
   "metadata": {},
   "source": [
    "Estimation of diffusion rate with centered differences for convection"
   ]
  },
  {
   "cell_type": "code",
   "execution_count": null,
   "metadata": {},
   "outputs": [],
   "source": []
  },
  {
   "cell_type": "code",
   "execution_count": null,
   "metadata": {},
   "outputs": [],
   "source": []
  }
 ],
 "metadata": {
  "kernelspec": {
   "display_name": "Python 3 (ipykernel)",
   "language": "python",
   "name": "python3"
  },
  "language_info": {
   "codemirror_mode": {
    "name": "ipython",
    "version": 3
   },
   "file_extension": ".py",
   "mimetype": "text/x-python",
   "name": "python",
   "nbconvert_exporter": "python",
   "pygments_lexer": "ipython3",
   "version": "3.10.10"
  }
 },
 "nbformat": 4,
 "nbformat_minor": 4
}
